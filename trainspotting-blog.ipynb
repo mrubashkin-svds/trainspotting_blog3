{
 "cells": [
  {
   "cell_type": "markdown",
   "metadata": {
    "slideshow": {
     "slide_type": "-"
    }
   },
   "source": [
    "# Introduction to Trainspotting"
   ]
  },
  {
   "cell_type": "markdown",
   "metadata": {
    "slideshow": {
     "slide_type": "-"
    }
   },
   "source": [
    "** Written By:\n",
    "** Chloe Mawer, Colin Higgins, Matthew Rubashkin"
   ]
  },
  {
   "cell_type": "markdown",
   "metadata": {
    "slideshow": {
     "slide_type": "-"
    }
   },
   "source": [
    "Here at Silicon Valley Data Science (SVDS), we have a slight obsession with the Caltrain. Our interest stems from the fact that half of our employees rely on the Caltrain to get to work each day. We also want to give back to the community, and we love when we can do that with data. When we have some breathing room between helping clients [build robust data systems](http://www.svds.com/building-data-systems-what-do-you-need/) or [use data to solve business challenges](http://www.svds.com/five-business-challenges-data-can-solve/), we like to work on R&D projects to explore technologies and experiment with new algorithms, hypotheses, and ideas. We previously [analyzed delays](http://www.svds.com/the-trains-project-analyzing-caltrain-delays/) using Caltrain's real-time API to improve arrival predictions, and we have [modeled the sounds](http://www.svds.com/listening-caltrain/) of passing trains to tell them apart. We're thrilled to share our latest R&D project, _Trainspotting_."
   ]
  },
  {
   "cell_type": "markdown",
   "metadata": {},
   "source": [
    "<center><video width=\"960\" height=\"360\" align=\"center\" controls>\n",
    "  <source src=\"video/side-by-side-1.mp4\" type=\"video/mp4\">\n",
    "</video></center>"
   ]
  },
  {
   "cell_type": "markdown",
   "metadata": {
    "slideshow": {
     "slide_type": "-"
    }
   },
   "source": [
    "<img src=\"figures/caltrain_logo.png\" alt=\"OpenCV\" width=\"150\" align='right'>\n",
    "If you have ever ridden the train, you know that the delay estimates Caltrain provides can be a bit...off. Sometimes a train will remain \"two minutes delayed\" for ten minutes after the train was _already_ supposed to have departed, or delays will be reported when the train is on time. The idea for Trainspotting came from our desire to integrate new data sources for delay prediction beyond scraping [Caltrain's API](http://www.caltrain.com/schedules/realtime.html) . Since we had previously set up a Raspberry Pi to [analyze train whistles,](http://www.svds.com/listening-caltrain/) we thought it would be fun to validate the data coming from the Caltrain API by capturing  real-time video and audio of trains passing by our office near the Mountain View station."
   ]
  },
  {
   "cell_type": "markdown",
   "metadata": {},
   "source": [
    "There were several questions we wanted our Internet of Things (IoT) Raspberry Pi train detector to answer:\n",
    "\n",
    "1. **Is there a train passing?**\n",
    "2. **Which direction is it going?**\n",
    "3. **How fast is the train moving?**\n",
    "\n",
    "Sound alone is pretty good at answering the first question because trains are rather loud. To help answer the rest of the questions, we added a camera to our Raspberry Pi to capture video. We'll describe this process in a series of posts coming over the next few weeks. They will focus on:\n"
   ]
  },
  {
   "cell_type": "markdown",
   "metadata": {},
   "source": [
    "1. **Introduction to Trainspotting Blog Post Series (you are here)**\n",
    "2. **Image Processing in Python**\n",
    "3. **Implementing Streaming Video Analysis on a Raspberry Pi**\n",
    "4. **Streaming Audio Analysis and IoT Sensor Fusion**\n",
    "5. **TensorFlow and Neural Nets for Recognizing Images on a Raspberry Pi**\n",
    "6. **Connecting an IoT device to the Cloud**\n",
    "7. **How-To Build a Deployable IoT Device using a Raspberry Pi**\n",
    "\n",
    "In the rest of this post, we'll give an overview of what these pieces will cover."
   ]
  },
  {
   "cell_type": "markdown",
   "metadata": {
    "collapsed": false
   },
   "source": [
    "# Walking through Trainspotting"
   ]
  },
  {
   "cell_type": "markdown",
   "metadata": {},
   "source": [
    "Data Scientist Chloe Mawer demonstrates how to use open-source Python libraries to process images and videos for detecting trains and their direction using OpenCV in her upcoming Image Processing in Python post. You can also see her recent [talk from PyCon 2016](https://us.pycon.org/2016/speaker/profile/1781/).\n",
    "\n",
    "In [Streaming Video Analysis with Python](https://docs.google.com/a/svds.com/document/d/1gGusVRZqKVkq_wRh-q7JJ1H2hxqDZwwl092pjiADcgA/edit?usp=sharing), Data Scientist Colin Higgins and Data Engineer Matt Rubashkin describe how we took the video analysis to the next level by implementing streaming, on-Pi video analysis with multithreading and light/dark adaptation. The figure below gives a peek into some of the challenges in detecting trains in varied light conditions."
   ]
  },
  {
   "cell_type": "markdown",
   "metadata": {},
   "source": [
    "<img src=\"figures/architecture_raspberry_pi.png\" alt=\"Smooth images\" width=\"800\" align='left'>"
   ]
  },
  {
   "cell_type": "markdown",
   "metadata": {},
   "source": [
    "In a previous post, [Listening to Caltrain](http://www.svds.com/listening-caltrain/), we analyzed frequency profiles to discriminate between local and express trains passing our Sunnyvale office. Since that post, SVDS has grown and upgraded digs to Mountain View. Since the move, we found that the pattern of train sounds was different in the new location, so we needed a more flexible approach. In [Streaming Audio Analysis and IoT Sensor Fusion](https://docs.google.com/a/svds.com/document/d/1qV4G6sMXgzQgxKj7boNKB__T41YrkjW2r52PYWkA-8k/edit?usp=sharing), Colin describes the audio processing and a custom sensor fusion architecture that controls both video and audio."
   ]
  },
  {
   "cell_type": "markdown",
   "metadata": {},
   "source": [
    "<img src=\"figures/sunrise_sunset_data.jpg\" alt=\"Smooth images\" width=\"800\" align='left'>"
   ]
  },
  {
   "cell_type": "markdown",
   "metadata": {},
   "source": [
    "After we were able to detect trains, their speed and their direction, we ran into a new problem. Our Pi was not only detecting Caltrains (true positive), but also detecting Union Pacific freight trains and the VTA light rail (false positive). In order to boost our detector's false positive rate, Matt used convolutional neural networks implemented in [Google's machine learning TensorFlow](https://www.tensorflow.org/versions/r0.9/tutorials/image_recognition/index.html) library. We implemented a [custom Inception-V3 model](https://www.tensorflow.org/versions/r0.8/how_tos/image_retraining/index.html) trained on thousands of images of vehicles to identify different types of trains with >95% accuracy. He details this solution in TensorFlow and Neural Networks for Recognizing Images on a Raspberry Pi."
   ]
  },
  {
   "cell_type": "markdown",
   "metadata": {},
   "source": [
    "<img src=\"figures/Tensorflow_demo.png\" alt=\"Smooth images\" width=\"600\" align='left'>"
   ]
  },
  {
   "cell_type": "markdown",
   "metadata": {},
   "source": [
    "In Connecting an IoT Device to the Cloud, Matt shows how we connected our Pi to the cloud using [Kafka](http://kafka.apache.org), allowing monitoring with [Grafana](http://grafana.org) and persistence in [HBase](https://hbase.apache.org)."
   ]
  },
  {
   "cell_type": "markdown",
   "metadata": {},
   "source": [
    "<img src=\"figures/grafana_demo.png\" alt=\"Smooth images\" width=\"800\" align='left'>"
   ]
  },
  {
   "cell_type": "markdown",
   "metadata": {},
   "source": [
    "Before we even finished the development on our first device, we wanted to set up more of these devices to get ground truth at other points along the track. With this in mind, we realized that we couldn't always guarantee that we'd have a speedy internet connection, and we wanted to keep the devices themselves affordable. The [Raspberry Pi](https://www.raspberrypi.org) is a great choice on both counts. The [Pi3](https://www.raspberrypi.org/products/raspberry-pi-3-model-b/) has enough horsepower to do on-device stream processing so that we could send smaller, processed data streams over internet connections, and the parts are cheap. The total cost of our hardware for this sensor is $130, and the code relies only on open source libraries. In How-To Build a Deployable IoT Device using a Raspberry Pi, we'll walk through the device hardware and setup in detail and show you where you can get the code so you can start Trainspotting for yourself."
   ]
  },
  {
   "cell_type": "markdown",
   "metadata": {},
   "source": [
    "<img src=\"figures/Hardware.png\" alt=\"Smooth images\" width=\"800\" align='left'>"
   ]
  },
  {
   "cell_type": "markdown",
   "metadata": {},
   "source": [
    "If you want to learn more about Trainspotting and Data Science at SVDS, stay tuned for our future Trainspotting blog posts, [and you can sign up for our newsletter here](http://www.svds.com/newsletter/)! You can also find our \"Caltrain Rider\" in the [Android](https://play.google.com/store/apps/details?id=interprone.caltrain&hl=en) and [Apple](https://itunes.apple.com/us/app/caltrain-rider/id897315176?mt=8) app stores. Our app is built upon the Hadoop Ecosystem including HBase and Spark, and relies on Kafka and Spark Streaming for ingestion and processing of twitter sentiment and Caltrain API data."
   ]
  }
 ],
 "metadata": {
  "celltoolbar": "Slideshow",
  "kernelspec": {
   "display_name": "Python 2",
   "language": "python",
   "name": "python2"
  },
  "language_info": {
   "codemirror_mode": {
    "name": "ipython",
    "version": 2
   },
   "file_extension": ".py",
   "mimetype": "text/x-python",
   "name": "python",
   "nbconvert_exporter": "python",
   "pygments_lexer": "ipython2",
   "version": "2.7.11"
  }
 },
 "nbformat": 4,
 "nbformat_minor": 0
}
